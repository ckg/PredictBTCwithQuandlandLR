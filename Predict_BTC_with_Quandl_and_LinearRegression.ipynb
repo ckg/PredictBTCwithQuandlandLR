{
  "nbformat": 4,
  "nbformat_minor": 0,
  "metadata": {
    "colab": {
      "name": "Predict BTC with Quandl and LinearRegression.ipynb",
      "provenance": [],
      "collapsed_sections": [],
      "authorship_tag": "ABX9TyM+59GvWRMIAmbwep/9Ss09",
      "include_colab_link": true
    },
    "kernelspec": {
      "name": "python3",
      "display_name": "Python 3"
    },
    "language_info": {
      "name": "python"
    }
  },
  "cells": [
    {
      "cell_type": "markdown",
      "metadata": {
        "id": "view-in-github",
        "colab_type": "text"
      },
      "source": [
        "<a href=\"https://colab.research.google.com/github/ckg/PredictBTCwithQuandlandLR/blob/main/Predict_BTC_with_Quandl_and_LinearRegression.ipynb\" target=\"_parent\"><img src=\"https://colab.research.google.com/assets/colab-badge.svg\" alt=\"Open In Colab\"/></a>"
      ]
    },
    {
      "cell_type": "code",
      "metadata": {
        "colab": {
          "base_uri": "https://localhost:8080/"
        },
        "id": "XN2h9FEkO7YM",
        "outputId": "abd51597-ba54-4634-bd75-a016a15e5cd5"
      },
      "source": [
        "!pip install Quandl"
      ],
      "execution_count": 1,
      "outputs": [
        {
          "output_type": "stream",
          "name": "stdout",
          "text": [
            "Collecting Quandl\n",
            "  Downloading Quandl-3.7.0-py2.py3-none-any.whl (26 kB)\n",
            "Collecting inflection>=0.3.1\n",
            "  Downloading inflection-0.5.1-py2.py3-none-any.whl (9.5 kB)\n",
            "Requirement already satisfied: six in /usr/local/lib/python3.7/dist-packages (from Quandl) (1.15.0)\n",
            "Requirement already satisfied: python-dateutil in /usr/local/lib/python3.7/dist-packages (from Quandl) (2.8.2)\n",
            "Requirement already satisfied: more-itertools in /usr/local/lib/python3.7/dist-packages (from Quandl) (8.10.0)\n",
            "Requirement already satisfied: pandas>=0.14 in /usr/local/lib/python3.7/dist-packages (from Quandl) (1.1.5)\n",
            "Requirement already satisfied: requests>=2.7.0 in /usr/local/lib/python3.7/dist-packages (from Quandl) (2.23.0)\n",
            "Requirement already satisfied: numpy>=1.8 in /usr/local/lib/python3.7/dist-packages (from Quandl) (1.19.5)\n",
            "Requirement already satisfied: pytz>=2017.2 in /usr/local/lib/python3.7/dist-packages (from pandas>=0.14->Quandl) (2018.9)\n",
            "Requirement already satisfied: certifi>=2017.4.17 in /usr/local/lib/python3.7/dist-packages (from requests>=2.7.0->Quandl) (2021.10.8)\n",
            "Requirement already satisfied: chardet<4,>=3.0.2 in /usr/local/lib/python3.7/dist-packages (from requests>=2.7.0->Quandl) (3.0.4)\n",
            "Requirement already satisfied: urllib3!=1.25.0,!=1.25.1,<1.26,>=1.21.1 in /usr/local/lib/python3.7/dist-packages (from requests>=2.7.0->Quandl) (1.24.3)\n",
            "Requirement already satisfied: idna<3,>=2.5 in /usr/local/lib/python3.7/dist-packages (from requests>=2.7.0->Quandl) (2.10)\n",
            "Installing collected packages: inflection, Quandl\n",
            "Successfully installed Quandl-3.7.0 inflection-0.5.1\n"
          ]
        }
      ]
    },
    {
      "cell_type": "code",
      "metadata": {
        "id": "TsXi3oFePX6a"
      },
      "source": [
        "import quandl\n",
        "import pandas as pd\n",
        "import numpy as np\n",
        "import matplotlib.pyplot as plt\n",
        "import datetime\n",
        "\n",
        "from sklearn.linear_model import LinearRegression\n",
        "from sklearn.model_selection import train_test_split\n",
        "from sklearn import preprocessing"
      ],
      "execution_count": 2,
      "outputs": []
    },
    {
      "cell_type": "code",
      "metadata": {
        "id": "fANMjhmSPrFn"
      },
      "source": [
        "quandl.ApiConfig.api_key=\"NwTmv3WUoLqkVHcEq7fK\""
      ],
      "execution_count": 3,
      "outputs": []
    },
    {
      "cell_type": "code",
      "metadata": {
        "id": "qXtH4wE8Q6Ch"
      },
      "source": [
        "data = quandl.get(\"BCHARTS/BITSTAMPEUR\")#, start_date=\"2017-01-01\")#, end_date=\"2021-11-01\")"
      ],
      "execution_count": 4,
      "outputs": []
    },
    {
      "cell_type": "code",
      "metadata": {
        "colab": {
          "base_uri": "https://localhost:8080/",
          "height": 235
        },
        "id": "8WCCTID1VGF3",
        "outputId": "23766136-6abf-4d14-c64d-128b794abf35"
      },
      "source": [
        "data.tail()"
      ],
      "execution_count": 5,
      "outputs": [
        {
          "output_type": "execute_result",
          "data": {
            "text/html": [
              "<div>\n",
              "<style scoped>\n",
              "    .dataframe tbody tr th:only-of-type {\n",
              "        vertical-align: middle;\n",
              "    }\n",
              "\n",
              "    .dataframe tbody tr th {\n",
              "        vertical-align: top;\n",
              "    }\n",
              "\n",
              "    .dataframe thead th {\n",
              "        text-align: right;\n",
              "    }\n",
              "</style>\n",
              "<table border=\"1\" class=\"dataframe\">\n",
              "  <thead>\n",
              "    <tr style=\"text-align: right;\">\n",
              "      <th></th>\n",
              "      <th>Open</th>\n",
              "      <th>High</th>\n",
              "      <th>Low</th>\n",
              "      <th>Close</th>\n",
              "      <th>Volume (BTC)</th>\n",
              "      <th>Volume (Currency)</th>\n",
              "      <th>Weighted Price</th>\n",
              "    </tr>\n",
              "    <tr>\n",
              "      <th>Date</th>\n",
              "      <th></th>\n",
              "      <th></th>\n",
              "      <th></th>\n",
              "      <th></th>\n",
              "      <th></th>\n",
              "      <th></th>\n",
              "      <th></th>\n",
              "    </tr>\n",
              "  </thead>\n",
              "  <tbody>\n",
              "    <tr>\n",
              "      <th>2020-11-25</th>\n",
              "      <td>16111.63</td>\n",
              "      <td>16394.03</td>\n",
              "      <td>15517.14</td>\n",
              "      <td>15725.86</td>\n",
              "      <td>2466.065307</td>\n",
              "      <td>3.949411e+07</td>\n",
              "      <td>16015.031779</td>\n",
              "    </tr>\n",
              "    <tr>\n",
              "      <th>2020-11-26</th>\n",
              "      <td>15709.62</td>\n",
              "      <td>15861.01</td>\n",
              "      <td>13559.50</td>\n",
              "      <td>14415.00</td>\n",
              "      <td>9789.914798</td>\n",
              "      <td>1.406331e+08</td>\n",
              "      <td>14365.100109</td>\n",
              "    </tr>\n",
              "    <tr>\n",
              "      <th>2020-11-27</th>\n",
              "      <td>14408.56</td>\n",
              "      <td>14660.00</td>\n",
              "      <td>13767.20</td>\n",
              "      <td>14332.52</td>\n",
              "      <td>3242.723370</td>\n",
              "      <td>4.610854e+07</td>\n",
              "      <td>14219.078397</td>\n",
              "    </tr>\n",
              "    <tr>\n",
              "      <th>2020-11-28</th>\n",
              "      <td>14336.77</td>\n",
              "      <td>14975.00</td>\n",
              "      <td>14119.55</td>\n",
              "      <td>14835.73</td>\n",
              "      <td>2018.341107</td>\n",
              "      <td>2.957818e+07</td>\n",
              "      <td>14654.696213</td>\n",
              "    </tr>\n",
              "    <tr>\n",
              "      <th>2020-11-29</th>\n",
              "      <td>14830.64</td>\n",
              "      <td>15277.16</td>\n",
              "      <td>14673.44</td>\n",
              "      <td>15248.77</td>\n",
              "      <td>769.977550</td>\n",
              "      <td>1.157589e+07</td>\n",
              "      <td>15034.060280</td>\n",
              "    </tr>\n",
              "  </tbody>\n",
              "</table>\n",
              "</div>"
            ],
            "text/plain": [
              "                Open      High  ...  Volume (Currency)  Weighted Price\n",
              "Date                            ...                                   \n",
              "2020-11-25  16111.63  16394.03  ...       3.949411e+07    16015.031779\n",
              "2020-11-26  15709.62  15861.01  ...       1.406331e+08    14365.100109\n",
              "2020-11-27  14408.56  14660.00  ...       4.610854e+07    14219.078397\n",
              "2020-11-28  14336.77  14975.00  ...       2.957818e+07    14654.696213\n",
              "2020-11-29  14830.64  15277.16  ...       1.157589e+07    15034.060280\n",
              "\n",
              "[5 rows x 7 columns]"
            ]
          },
          "metadata": {},
          "execution_count": 5
        }
      ]
    },
    {
      "cell_type": "code",
      "metadata": {
        "id": "-H6M9MMeVJ7a"
      },
      "source": [
        "df = data.copy()"
      ],
      "execution_count": 6,
      "outputs": []
    },
    {
      "cell_type": "code",
      "metadata": {
        "id": "r5NPwnUMcdVN"
      },
      "source": [
        "df = df[[\"Close\"]]"
      ],
      "execution_count": 7,
      "outputs": []
    },
    {
      "cell_type": "code",
      "metadata": {
        "colab": {
          "base_uri": "https://localhost:8080/",
          "height": 235
        },
        "id": "HukSzz1achek",
        "outputId": "aaff7af2-f919-4d8b-dd05-f887e6c83962"
      },
      "source": [
        "df.tail()"
      ],
      "execution_count": 8,
      "outputs": [
        {
          "output_type": "execute_result",
          "data": {
            "text/html": [
              "<div>\n",
              "<style scoped>\n",
              "    .dataframe tbody tr th:only-of-type {\n",
              "        vertical-align: middle;\n",
              "    }\n",
              "\n",
              "    .dataframe tbody tr th {\n",
              "        vertical-align: top;\n",
              "    }\n",
              "\n",
              "    .dataframe thead th {\n",
              "        text-align: right;\n",
              "    }\n",
              "</style>\n",
              "<table border=\"1\" class=\"dataframe\">\n",
              "  <thead>\n",
              "    <tr style=\"text-align: right;\">\n",
              "      <th></th>\n",
              "      <th>Close</th>\n",
              "    </tr>\n",
              "    <tr>\n",
              "      <th>Date</th>\n",
              "      <th></th>\n",
              "    </tr>\n",
              "  </thead>\n",
              "  <tbody>\n",
              "    <tr>\n",
              "      <th>2020-11-25</th>\n",
              "      <td>15725.86</td>\n",
              "    </tr>\n",
              "    <tr>\n",
              "      <th>2020-11-26</th>\n",
              "      <td>14415.00</td>\n",
              "    </tr>\n",
              "    <tr>\n",
              "      <th>2020-11-27</th>\n",
              "      <td>14332.52</td>\n",
              "    </tr>\n",
              "    <tr>\n",
              "      <th>2020-11-28</th>\n",
              "      <td>14835.73</td>\n",
              "    </tr>\n",
              "    <tr>\n",
              "      <th>2020-11-29</th>\n",
              "      <td>15248.77</td>\n",
              "    </tr>\n",
              "  </tbody>\n",
              "</table>\n",
              "</div>"
            ],
            "text/plain": [
              "               Close\n",
              "Date                \n",
              "2020-11-25  15725.86\n",
              "2020-11-26  14415.00\n",
              "2020-11-27  14332.52\n",
              "2020-11-28  14835.73\n",
              "2020-11-29  15248.77"
            ]
          },
          "metadata": {},
          "execution_count": 8
        }
      ]
    },
    {
      "cell_type": "code",
      "metadata": {
        "colab": {
          "base_uri": "https://localhost:8080/"
        },
        "id": "d9g9KuzYcupE",
        "outputId": "b9aa89f9-c872-47db-ebe1-c08185973461"
      },
      "source": [
        "df.describe"
      ],
      "execution_count": 9,
      "outputs": [
        {
          "output_type": "execute_result",
          "data": {
            "text/plain": [
              "<bound method NDFrame.describe of                Close\n",
              "Date                \n",
              "2018-02-13   6908.70\n",
              "2018-02-14   7620.00\n",
              "2018-02-15   8055.25\n",
              "2018-02-16   8220.00\n",
              "2018-02-17   8960.22\n",
              "...              ...\n",
              "2020-11-25  15725.86\n",
              "2020-11-26  14415.00\n",
              "2020-11-27  14332.52\n",
              "2020-11-28  14835.73\n",
              "2020-11-29  15248.77\n",
              "\n",
              "[1009 rows x 1 columns]>"
            ]
          },
          "metadata": {},
          "execution_count": 9
        }
      ]
    },
    {
      "cell_type": "code",
      "metadata": {
        "colab": {
          "base_uri": "https://localhost:8080/",
          "height": 375
        },
        "id": "0GHLODjjeBQx",
        "outputId": "5ed3ed0d-dcd1-491f-f59d-ca149edd493b"
      },
      "source": [
        "df[\"Close\"].plot(figsize=(15,6), color=\"g\")\n",
        "plt.legend(loc=\"upper left\")\n",
        "plt.show()"
      ],
      "execution_count": 10,
      "outputs": [
        {
          "output_type": "display_data",
          "data": {
            "image/png": "[encoded data removed]",
            "text/plain": [
              "<Figure size 1080x432 with 1 Axes>"
            ]
          },
          "metadata": {
            "needs_background": "light"
          }
        }
      ]
    },
    {
      "cell_type": "code",
      "metadata": {
        "id": "XfXhvZohedPg"
      },
      "source": [
        "forecast=10\n",
        "df[\"Prediction\"] = df[\"Close\"].shift(-forecast) "
      ],
      "execution_count": 11,
      "outputs": []
    },
    {
      "cell_type": "code",
      "metadata": {
        "colab": {
          "base_uri": "https://localhost:8080/",
          "height": 450
        },
        "id": "kOFxsaiJfNrW",
        "outputId": "d7a36de1-3b9b-48b8-e623-f9e1d31bc73c"
      },
      "source": [
        "df"
      ],
      "execution_count": 12,
      "outputs": [
        {
          "output_type": "execute_result",
          "data": {
            "text/html": [
              "<div>\n",
              "<style scoped>\n",
              "    .dataframe tbody tr th:only-of-type {\n",
              "        vertical-align: middle;\n",
              "    }\n",
              "\n",
              "    .dataframe tbody tr th {\n",
              "        vertical-align: top;\n",
              "    }\n",
              "\n",
              "    .dataframe thead th {\n",
              "        text-align: right;\n",
              "    }\n",
              "</style>\n",
              "<table border=\"1\" class=\"dataframe\">\n",
              "  <thead>\n",
              "    <tr style=\"text-align: right;\">\n",
              "      <th></th>\n",
              "      <th>Close</th>\n",
              "      <th>Prediction</th>\n",
              "    </tr>\n",
              "    <tr>\n",
              "      <th>Date</th>\n",
              "      <th></th>\n",
              "      <th></th>\n",
              "    </tr>\n",
              "  </thead>\n",
              "  <tbody>\n",
              "    <tr>\n",
              "      <th>2018-02-13</th>\n",
              "      <td>6908.70</td>\n",
              "      <td>8272.80</td>\n",
              "    </tr>\n",
              "    <tr>\n",
              "      <th>2018-02-14</th>\n",
              "      <td>7620.00</td>\n",
              "      <td>7902.80</td>\n",
              "    </tr>\n",
              "    <tr>\n",
              "      <th>2018-02-15</th>\n",
              "      <td>8055.25</td>\n",
              "      <td>7825.58</td>\n",
              "    </tr>\n",
              "    <tr>\n",
              "      <th>2018-02-16</th>\n",
              "      <td>8220.00</td>\n",
              "      <td>8374.50</td>\n",
              "    </tr>\n",
              "    <tr>\n",
              "      <th>2018-02-17</th>\n",
              "      <td>8960.22</td>\n",
              "      <td>8623.44</td>\n",
              "    </tr>\n",
              "    <tr>\n",
              "      <th>...</th>\n",
              "      <td>...</td>\n",
              "      <td>...</td>\n",
              "    </tr>\n",
              "    <tr>\n",
              "      <th>2020-11-25</th>\n",
              "      <td>15725.86</td>\n",
              "      <td>NaN</td>\n",
              "    </tr>\n",
              "    <tr>\n",
              "      <th>2020-11-26</th>\n",
              "      <td>14415.00</td>\n",
              "      <td>NaN</td>\n",
              "    </tr>\n",
              "    <tr>\n",
              "      <th>2020-11-27</th>\n",
              "      <td>14332.52</td>\n",
              "      <td>NaN</td>\n",
              "    </tr>\n",
              "    <tr>\n",
              "      <th>2020-11-28</th>\n",
              "      <td>14835.73</td>\n",
              "      <td>NaN</td>\n",
              "    </tr>\n",
              "    <tr>\n",
              "      <th>2020-11-29</th>\n",
              "      <td>15248.77</td>\n",
              "      <td>NaN</td>\n",
              "    </tr>\n",
              "  </tbody>\n",
              "</table>\n",
              "<p>1009 rows × 2 columns</p>\n",
              "</div>"
            ],
            "text/plain": [
              "               Close  Prediction\n",
              "Date                            \n",
              "2018-02-13   6908.70     8272.80\n",
              "2018-02-14   7620.00     7902.80\n",
              "2018-02-15   8055.25     7825.58\n",
              "2018-02-16   8220.00     8374.50\n",
              "2018-02-17   8960.22     8623.44\n",
              "...              ...         ...\n",
              "2020-11-25  15725.86         NaN\n",
              "2020-11-26  14415.00         NaN\n",
              "2020-11-27  14332.52         NaN\n",
              "2020-11-28  14835.73         NaN\n",
              "2020-11-29  15248.77         NaN\n",
              "\n",
              "[1009 rows x 2 columns]"
            ]
          },
          "metadata": {},
          "execution_count": 12
        }
      ]
    },
    {
      "cell_type": "code",
      "metadata": {
        "id": "qnRQu1VbfXB-"
      },
      "source": [
        "X = np.array(df.drop([\"Prediction\"], 1)) # drops the  column and not the index"
      ],
      "execution_count": 13,
      "outputs": []
    },
    {
      "cell_type": "code",
      "metadata": {
        "id": "25rjG4gs3qoJ"
      },
      "source": [
        "X = preprocessing.scale(X)"
      ],
      "execution_count": 14,
      "outputs": []
    },
    {
      "cell_type": "code",
      "metadata": {
        "colab": {
          "base_uri": "https://localhost:8080/"
        },
        "id": "RMuXMfo63wsP",
        "outputId": "6f83d3a4-eb10-4444-ce51-37da13fdeab0"
      },
      "source": [
        "X"
      ],
      "execution_count": 15,
      "outputs": [
        {
          "output_type": "execute_result",
          "data": {
            "text/plain": [
              "array([[0.02777203],\n",
              "       [0.29376527],\n",
              "       [0.4565286 ],\n",
              "       ...,\n",
              "       [2.80393671],\n",
              "       [2.99211393],\n",
              "       [3.14657175]])"
            ]
          },
          "metadata": {},
          "execution_count": 15
        }
      ]
    },
    {
      "cell_type": "code",
      "metadata": {
        "colab": {
          "base_uri": "https://localhost:8080/"
        },
        "id": "A8uCdUTx4awX",
        "outputId": "e0ffdca1-133c-47d7-9ee6-e093d16fe92d"
      },
      "source": [
        "X.mean()"
      ],
      "execution_count": 16,
      "outputs": [
        {
          "output_type": "execute_result",
          "data": {
            "text/plain": [
              "1.9717736968565713e-16"
            ]
          },
          "metadata": {},
          "execution_count": 16
        }
      ]
    },
    {
      "cell_type": "code",
      "metadata": {
        "colab": {
          "base_uri": "https://localhost:8080/"
        },
        "id": "NCKwqsVe4wDu",
        "outputId": "10c3279d-6968-4364-a73d-1d077c3fa08e"
      },
      "source": [
        "X.std()"
      ],
      "execution_count": 17,
      "outputs": [
        {
          "output_type": "execute_result",
          "data": {
            "text/plain": [
              "0.9999999999999999"
            ]
          },
          "metadata": {},
          "execution_count": 17
        }
      ]
    },
    {
      "cell_type": "code",
      "metadata": {
        "id": "l1BW76wi45fG"
      },
      "source": [
        "X_forecast = X[-forecast:]\n",
        "X = X[:-forecast]"
      ],
      "execution_count": 18,
      "outputs": []
    },
    {
      "cell_type": "code",
      "metadata": {
        "colab": {
          "base_uri": "https://localhost:8080/"
        },
        "id": "Vijp1T2xdDIY",
        "outputId": "90650b53-dcf3-49c9-c4cc-6b38a156661d"
      },
      "source": [
        "X.size"
      ],
      "execution_count": 19,
      "outputs": [
        {
          "output_type": "execute_result",
          "data": {
            "text/plain": [
              "999"
            ]
          },
          "metadata": {},
          "execution_count": 19
        }
      ]
    },
    {
      "cell_type": "code",
      "metadata": {
        "id": "nAdSYICQ5mT-"
      },
      "source": [
        "y = np.array(df.drop([\"Close\"],1)) # drops the  column and not the index"
      ],
      "execution_count": 20,
      "outputs": []
    },
    {
      "cell_type": "code",
      "metadata": {
        "colab": {
          "base_uri": "https://localhost:8080/"
        },
        "id": "amTSh2o_d99q",
        "outputId": "2e4a2e27-af56-4a4b-efc8-9b692096b62f"
      },
      "source": [
        "y.size"
      ],
      "execution_count": 21,
      "outputs": [
        {
          "output_type": "execute_result",
          "data": {
            "text/plain": [
              "1009"
            ]
          },
          "metadata": {},
          "execution_count": 21
        }
      ]
    },
    {
      "cell_type": "code",
      "metadata": {
        "id": "MqSsgZcn58Fc"
      },
      "source": [
        "y = y[:-forecast]"
      ],
      "execution_count": 22,
      "outputs": []
    },
    {
      "cell_type": "code",
      "metadata": {
        "colab": {
          "base_uri": "https://localhost:8080/"
        },
        "id": "Qy6RJ7SSdNMM",
        "outputId": "d3fcabd7-5942-4de2-efdb-6f030845998e"
      },
      "source": [
        "y.size"
      ],
      "execution_count": 23,
      "outputs": [
        {
          "output_type": "execute_result",
          "data": {
            "text/plain": [
              "999"
            ]
          },
          "metadata": {},
          "execution_count": 23
        }
      ]
    },
    {
      "cell_type": "code",
      "metadata": {
        "id": "djtgxsUy6N7k"
      },
      "source": [
        "X_train, X_test, y_train, y_test = train_test_split(X, y, test_size=0.2)"
      ],
      "execution_count": 24,
      "outputs": []
    },
    {
      "cell_type": "code",
      "metadata": {
        "id": "Krivl10uAV8x"
      },
      "source": [
        "clf = LinearRegression()"
      ],
      "execution_count": 25,
      "outputs": []
    },
    {
      "cell_type": "code",
      "metadata": {
        "colab": {
          "base_uri": "https://localhost:8080/"
        },
        "id": "ZJ1Q06voAjZg",
        "outputId": "1ab1b52a-ada1-4d8e-83d1-8560e1405d24"
      },
      "source": [
        "clf.fit(X_train, y_train)"
      ],
      "execution_count": 26,
      "outputs": [
        {
          "output_type": "execute_result",
          "data": {
            "text/plain": [
              "LinearRegression(copy_X=True, fit_intercept=True, n_jobs=None, normalize=False)"
            ]
          },
          "metadata": {},
          "execution_count": 26
        }
      ]
    },
    {
      "cell_type": "code",
      "metadata": {
        "id": "7wSrAVRlAxQX"
      },
      "source": [
        "confidence = clf.score(X_test, y_test)"
      ],
      "execution_count": 27,
      "outputs": []
    },
    {
      "cell_type": "code",
      "metadata": {
        "colab": {
          "base_uri": "https://localhost:8080/"
        },
        "id": "Hdm4FOJIBLfY",
        "outputId": "a35d85bf-7c7e-4b1c-f8c6-dbd3a9e32143"
      },
      "source": [
        "print(confidence)"
      ],
      "execution_count": 28,
      "outputs": [
        {
          "output_type": "stream",
          "name": "stdout",
          "text": [
            "0.8658868507501898\n"
          ]
        }
      ]
    },
    {
      "cell_type": "code",
      "metadata": {
        "id": "nJP4_FpeBQbQ"
      },
      "source": [
        "forecast_predicted = clf.predict(X_forecast)"
      ],
      "execution_count": 29,
      "outputs": []
    },
    {
      "cell_type": "code",
      "metadata": {
        "colab": {
          "base_uri": "https://localhost:8080/"
        },
        "id": "fForSSwhBukO",
        "outputId": "7de98f2c-542f-4b1c-94cc-e2d614495b7b"
      },
      "source": [
        "print(forecast_predicted)"
      ],
      "execution_count": 30,
      "outputs": [
        {
          "output_type": "stream",
          "name": "stdout",
          "text": [
            "[[14835.31576962]\n",
            " [14831.57952316]\n",
            " [14647.12693467]\n",
            " [14643.93592992]\n",
            " [15156.30224496]\n",
            " [14813.75637616]\n",
            " [13642.05875965]\n",
            " [13568.33492995]\n",
            " [14018.12358595]\n",
            " [14387.31479135]]\n"
          ]
        }
      ]
    },
    {
      "cell_type": "code",
      "metadata": {
        "id": "Ay4eUbfrB071"
      },
      "source": [
        "dates = pd.date_range(start=\"2020-11-20\", end=\"2020-11-29\")"
      ],
      "execution_count": 31,
      "outputs": []
    },
    {
      "cell_type": "code",
      "metadata": {
        "colab": {
          "base_uri": "https://localhost:8080/"
        },
        "id": "-FmE0axNC-S9",
        "outputId": "28cdb329-9610-46a5-8b63-bf5eff03e08c"
      },
      "source": [
        "print(dates)"
      ],
      "execution_count": 32,
      "outputs": [
        {
          "output_type": "stream",
          "name": "stdout",
          "text": [
            "DatetimeIndex(['2020-11-20', '2020-11-21', '2020-11-22', '2020-11-23',\n",
            "               '2020-11-24', '2020-11-25', '2020-11-26', '2020-11-27',\n",
            "               '2020-11-28', '2020-11-29'],\n",
            "              dtype='datetime64[ns]', freq='D')\n"
          ]
        }
      ]
    },
    {
      "cell_type": "code",
      "metadata": {
        "colab": {
          "base_uri": "https://localhost:8080/",
          "height": 294
        },
        "id": "8m15EBtBEc75",
        "outputId": "33d4ed85-4390-4632-cc77-5506534fcf2f"
      },
      "source": [
        "plt.plot(dates, forecast_predicted, color=\"r\")\n",
        "df[\"Close\"].plot(color=\"g\")\n",
        "plt.xlim(xmin=datetime.date(2020,7,1))"
      ],
      "execution_count": 34,
      "outputs": [
        {
          "output_type": "execute_result",
          "data": {
            "text/plain": [
              "(737607.0, 737809.0)"
            ]
          },
          "metadata": {},
          "execution_count": 34
        },
        {
          "output_type": "display_data",
          "data": {
            "image/png": "[encoded data removed]",
            "text/plain": [
              "<Figure size 432x288 with 1 Axes>"
            ]
          },
          "metadata": {
            "needs_background": "light"
          }
        }
      ]
    },
    {
      "cell_type": "code",
      "metadata": {
        "id": "06N9Eqw3Kqyu"
      },
      "source": [
        ""
      ],
      "execution_count": 33,
      "outputs": []
    }
  ]
}